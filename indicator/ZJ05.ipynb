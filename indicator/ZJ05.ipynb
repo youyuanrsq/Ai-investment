{
 "cells": [
  {
   "cell_type": "code",
   "execution_count": 1,
   "id": "19116152",
   "metadata": {},
   "outputs": [
    {
     "ename": "ModuleNotFoundError",
     "evalue": "No module named 'talib'",
     "output_type": "error",
     "traceback": [
      "\u001b[0;31m---------------------------------------------------------------------------\u001b[0m",
      "\u001b[0;31mModuleNotFoundError\u001b[0m                       Traceback (most recent call last)",
      "\u001b[0;32m<ipython-input-1-9570b661d8fe>\u001b[0m in \u001b[0;36m<module>\u001b[0;34m\u001b[0m\n\u001b[0;32m----> 1\u001b[0;31m \u001b[0;32mimport\u001b[0m \u001b[0mtalib\u001b[0m\u001b[0;34m\u001b[0m\u001b[0;34m\u001b[0m\u001b[0m\n\u001b[0m\u001b[1;32m      2\u001b[0m \u001b[0;32mimport\u001b[0m \u001b[0mpandas\u001b[0m \u001b[0;32mas\u001b[0m \u001b[0mpd\u001b[0m\u001b[0;34m\u001b[0m\u001b[0;34m\u001b[0m\u001b[0m\n\u001b[1;32m      3\u001b[0m \u001b[0;32mimport\u001b[0m \u001b[0mnumpy\u001b[0m \u001b[0;32mas\u001b[0m \u001b[0mnp\u001b[0m\u001b[0;34m\u001b[0m\u001b[0;34m\u001b[0m\u001b[0m\n\u001b[1;32m      4\u001b[0m \u001b[0;32mimport\u001b[0m \u001b[0mmath\u001b[0m\u001b[0;34m\u001b[0m\u001b[0;34m\u001b[0m\u001b[0m\n\u001b[1;32m      5\u001b[0m \u001b[0;32mimport\u001b[0m \u001b[0mos\u001b[0m\u001b[0;34m\u001b[0m\u001b[0;34m\u001b[0m\u001b[0m\n",
      "\u001b[0;31mModuleNotFoundError\u001b[0m: No module named 'talib'"
     ]
    }
   ],
   "source": [
    "import talib\n",
    "import pandas as pd\n",
    "import numpy as np\n",
    "import math\n",
    "import os\n",
    "import random\n",
    "import itertools\n",
    "\n",
    "def zj05(df,smooth):\n",
    "    \"\"\"\n",
    "    返回zj05 indicator的值\n",
    "    :param df: 股票行情数据 open high low close volume\n",
    "    :param smooth: 对原本zj05的值做几日的平滑\n",
    "    :return: 返回zj05 indicator的值\n",
    "    \"\"\"\n",
    "    var1  = (2 * df.close + df.high + df.low)/4\n",
    "    sk = talib.EMA(var1, 13) - talib.EMA(var1, 21)\n",
    "    sd = talib.EMA(sk, 2)\n",
    "    bullforce = 2*(sk-sd)*3.8\n",
    "    bearforce = (-2) * (sk-sd)*3.8\n",
    "    df[\"force_change\"] = talib.EMA((bullforce-bearforce), smooth)\n",
    "    df2 = df.dropna(axis=0,how='any')\n",
    "    return df2\n",
    "\n",
    "\n",
    "def from_local_read_company_name(filepath='D:\\\\pycharmprojects\\\\backtrader-general-api\\\\data\\\\stocks\\\\'):\n",
    "    \"\"\"\n",
    "    读取path下的股票名称,返回股票名称列表\n",
    "    :param filepath:\n",
    "    :return: 股票名称列表\n",
    "    \"\"\"\n",
    "    filenames = os.listdir(filepath)\n",
    "    company_names = []\n",
    "    for filename in filenames:\n",
    "        filename = filename.replace(\".W\", \"_W\")\n",
    "        company = filename.split('.')[0]\n",
    "        company_names.append(company)\n",
    "    return company_names\n",
    "\n",
    "# 读取数据，计算并返回zj05的值\n",
    "def main(path,symbol):\n",
    "    df = pd.read_csv(path+symbol+\".CSV\")\n",
    "    df = df[['time', 'open', 'high', 'low', 'close', 'volume']]\n",
    "    df['time'] = pd.to_datetime(df['time'])\n",
    "    df = df.sort_index(ascending=False)\n",
    "    smooth=3\n",
    "    df = zj05(df, smooth=smooth)\n",
    "    return df\n",
    "\n",
    "if __name__ == '__main__':\n",
    "    path = \"data/ark_15min/\"\n",
    "    symbols = from_local_read_company_name(path)\n",
    "    # print(symbols)\n",
    "    for symbol in symbols:\n",
    "        zj05 = main(path,symbol)"
   ]
  },
  {
   "cell_type": "code",
   "execution_count": null,
   "id": "2b2846c3",
   "metadata": {},
   "outputs": [],
   "source": []
  }
 ],
 "metadata": {
  "kernelspec": {
   "display_name": "Python 3",
   "language": "python",
   "name": "python3"
  },
  "language_info": {
   "codemirror_mode": {
    "name": "ipython",
    "version": 3
   },
   "file_extension": ".py",
   "mimetype": "text/x-python",
   "name": "python",
   "nbconvert_exporter": "python",
   "pygments_lexer": "ipython3",
   "version": "3.8.5"
  }
 },
 "nbformat": 4,
 "nbformat_minor": 5
}
