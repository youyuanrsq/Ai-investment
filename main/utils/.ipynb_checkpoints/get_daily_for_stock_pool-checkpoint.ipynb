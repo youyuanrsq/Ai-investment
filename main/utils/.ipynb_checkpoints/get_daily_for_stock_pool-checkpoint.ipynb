{
 "cells": [
  {
   "cell_type": "code",
   "execution_count": 53,
   "id": "487e760a",
   "metadata": {},
   "outputs": [],
   "source": [
    "import glob\n",
    "import yfinance as yf\n",
    "import csv\n",
    "import datetime\n",
    "import pandas as pd\n",
    "import os\n",
    "import json\n",
    "from get_dataset import get_single_dataset"
   ]
  },
  {
   "cell_type": "code",
   "execution_count": 4,
   "id": "7fbb8efd",
   "metadata": {},
   "outputs": [],
   "source": [
    "def get_data(stock_name='AAPL', start='2010-01-01', end='2015-12-25', interval='1m'):\n",
    "    df = yf.download(stock_name, start=start, end=end, group_by='ticker', interval=interval, auto_adjust=True)\n",
    "    return df"
   ]
  },
  {
   "cell_type": "code",
   "execution_count": 54,
   "id": "133f04a1",
   "metadata": {},
   "outputs": [
    {
     "name": "stdout",
     "output_type": "stream",
     "text": [
      "starting data downloading for top5000\n"
     ]
    }
   ],
   "source": [
    "dataset = get_single_dataset('top5000')"
   ]
  },
  {
   "cell_type": "code",
   "execution_count": 48,
   "id": "ca465895",
   "metadata": {},
   "outputs": [
    {
     "data": {
      "text/plain": [
       "'top5000'"
      ]
     },
     "execution_count": 48,
     "metadata": {},
     "output_type": "execute_result"
    }
   ],
   "source": [
    "dataset"
   ]
  },
  {
   "cell_type": "code",
   "execution_count": 35,
   "id": "aa86f8d1",
   "metadata": {
    "scrolled": true
   },
   "outputs": [
    {
     "name": "stdout",
     "output_type": "stream",
     "text": [
      "[*********************100%***********************]  1 of 1 completed\n",
      "[*********************100%***********************]  1 of 1 completed\n",
      "[*********************100%***********************]  1 of 1 completed\n",
      "\n",
      "1 Failed download:\n",
      "- P: No data found for this date range, symbol may be delisted\n",
      "[*********************100%***********************]  1 of 1 completed\n",
      "\n",
      "1 Failed download:\n",
      "- 5: No data found, symbol may be delisted\n",
      "[*********************100%***********************]  1 of 1 completed\n",
      "\n",
      "1 Failed download:\n",
      "- 0: No data found, symbol may be delisted\n",
      "[*********************100%***********************]  1 of 1 completed\n",
      "\n",
      "1 Failed download:\n",
      "- 0: No data found, symbol may be delisted\n",
      "[*********************100%***********************]  1 of 1 completed\n",
      "\n",
      "1 Failed download:\n",
      "- 0: No data found, symbol may be delisted\n"
     ]
    }
   ],
   "source": [
    "end = datetime.date.today() \n",
    "start = end -  datetime.timedelta(days=0)\n",
    "all_stock_day = []\n",
    "for symble in dataset:\n",
    "    day_data = get_data(stock_name=symble, start=start, end=end, interval='1d')\n",
    "    day_data['symbol'] = symble\n",
    "    all_stock_day.append(day_data)\n",
    "all_stock_day = pd.concat(all_stock_day)\n",
    "all_stock_day.to_csv('../../../trading_data/'+str(end)+'_daily_stock.csv')"
   ]
  }
 ],
 "metadata": {
  "kernelspec": {
   "display_name": "Python 3",
   "language": "python",
   "name": "python3"
  },
  "language_info": {
   "codemirror_mode": {
    "name": "ipython",
    "version": 3
   },
   "file_extension": ".py",
   "mimetype": "text/x-python",
   "name": "python",
   "nbconvert_exporter": "python",
   "pygments_lexer": "ipython3",
   "version": "3.8.5"
  }
 },
 "nbformat": 4,
 "nbformat_minor": 5
}
